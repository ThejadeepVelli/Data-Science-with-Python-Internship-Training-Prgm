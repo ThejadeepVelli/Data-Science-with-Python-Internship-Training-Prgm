{
 "cells": [
  {
   "cell_type": "markdown",
   "metadata": {},
   "source": [
    "### Conditional Statements\n",
    "\n",
    "- Controlling the flow of execution\n",
    "\n",
    "## SYNTAX\n",
    "- if    \n",
    "    \n",
    "```python\n",
    "    \n",
    "     if condition:\n",
    "     Block of code\n",
    "    \n",
    "```\n",
    "- if else\n",
    "\n",
    "```python          \n",
    "          \n",
    "    \n",
    "    if condition:\n",
    "    block of code \n",
    "    \n",
    "  else:\n",
    "    block of code\n",
    "    \n",
    "```\n",
    "- if else if \n",
    "\n",
    "```python  \n",
    "  \n",
    "      \n",
    "    \n",
    "   if condition:\n",
    "      block of code\n",
    "\n",
    "  elif condition:\n",
    "     block of code\n",
    "    \n",
    "  else condition:\n",
    "     block of code\n",
    "    \n",
    "```\n",
    "\n",
    "    "
   ]
  },
  {
   "cell_type": "markdown",
   "metadata": {},
   "source": [
    "- Biggest of two numbers"
   ]
  },
  {
   "cell_type": "code",
   "execution_count": 2,
   "metadata": {},
   "outputs": [
    {
     "name": "stdout",
     "output_type": "stream",
     "text": [
      "15 is the biggest number\n"
     ]
    }
   ],
   "source": [
    "a=5\n",
    "b=15\n",
    "\n",
    "if a>b:\n",
    "    print(a,\"is the biggest number\")\n",
    "    \n",
    "elif b>a:\n",
    "    print(b, \"is the biggest number\")\n",
    "else:\n",
    "    print(\"both are equal\")"
   ]
  },
  {
   "cell_type": "markdown",
   "metadata": {},
   "source": [
    "- Bigggest of three numbers\n"
   ]
  },
  {
   "cell_type": "code",
   "execution_count": 8,
   "metadata": {},
   "outputs": [
    {
     "name": "stdout",
     "output_type": "stream",
     "text": [
      "15 is the biggest number\n"
     ]
    }
   ],
   "source": [
    "a=5\n",
    "b=15\n",
    "c=8\n",
    "if a>b and a>c:\n",
    "    print(a,\"is the biggest number\")\n",
    "    \n",
    "elif b>c:\n",
    "    print(b, \"is the biggest number\")\n",
    "    \n",
    "else:\n",
    "    print(c, \"is the biggest number\")"
   ]
  },
  {
   "cell_type": "markdown",
   "metadata": {},
   "source": [
    "- Check wheather a numbr is even or odd"
   ]
  },
  {
   "cell_type": "code",
   "execution_count": 10,
   "metadata": {},
   "outputs": [
    {
     "name": "stdout",
     "output_type": "stream",
     "text": [
      "enter the number:11\n",
      "11 is not an even number\n"
     ]
    }
   ],
   "source": [
    "n=int(input(\"enter the number:\"))\n",
    "\n",
    "if n%2==0:\n",
    "    print(n,\"is the even number\")\n",
    "else:\n",
    "    print(n,\"is not an even number\")"
   ]
  },
  {
   "cell_type": "markdown",
   "metadata": {},
   "source": [
    "Verify given year is a leap year or not\n",
    "\n",
    "- it should divisible by 4 and rem as 0\n",
    "- it shouldn't divisible by 100\n",
    "- divisible by 400"
   ]
  },
  {
   "cell_type": "code",
   "execution_count": 15,
   "metadata": {},
   "outputs": [
    {
     "name": "stdout",
     "output_type": "stream",
     "text": [
      "enter the year2024\n",
      "2024 is a leap year\n"
     ]
    }
   ],
   "source": [
    "n=int(input(\"enter the year\"))\n",
    "if (n%400==0) or (n%4==0 and n%100 !=0):\n",
    "    print(n,\"is a leap year\")\n",
    "else:\n",
    "    print(n,\"is not a leap year\")\n"
   ]
  },
  {
   "cell_type": "markdown",
   "metadata": {},
   "source": [
    "Claculator application\n",
    "- 2 inputs\n",
    "- arithmetic operation\n"
   ]
  },
  {
   "cell_type": "code",
   "execution_count": 17,
   "metadata": {},
   "outputs": [
    {
     "name": "stdout",
     "output_type": "stream",
     "text": [
      "enter a number24\n",
      "enter a number24\n",
      "what ARITHMETIC i need to perform*\n",
      "576\n"
     ]
    }
   ],
   "source": [
    "a=int(input(\"enter a number\"))\n",
    "b=int(input(\"enter a number\"))\n",
    "arthm=input(\"what ARITHMETIC i need to perform\")\n",
    "\n",
    "if arthm=='+':\n",
    "  print(a+b)\n",
    "elif arthm=='-':\n",
    "    print(a-b)\n",
    "elif arthm==\"*\":\n",
    "    print(a*b)\n",
    "else:\n",
    "    print(\"given arithmetic is invalid!!\")\n"
   ]
  },
  {
   "cell_type": "markdown",
   "metadata": {},
   "source": [
    "### Loops in Python\n",
    "- execute the block of code for multiple times\n",
    "- FOR LOOP\n",
    "```python\n",
    "\n",
    "    for Iterative variable in seqofdata:\n",
    "        BLock of code\n",
    "\n",
    "```\n",
    "\n",
    "\n",
    "    While loop-> Based on the condition\n",
    "\n",
    "\n",
    "\n",
    "    init\n",
    "    while condition:\n",
    "        block of code\n",
    "    inc/dec\n",
    " ```"
   ]
  },
  {
   "cell_type": "markdown",
   "metadata": {},
   "source": [
    "display 1 to 100 numbers to the users\n",
    "\n",
    "1,>101,1"
   ]
  },
  {
   "cell_type": "code",
   "execution_count": 23,
   "metadata": {},
   "outputs": [
    {
     "name": "stdout",
     "output_type": "stream",
     "text": [
      "1 3 5 7 9 11 13 15 17 19 21 23 25 27 29 31 33 35 37 39 41 43 45 47 49 51 53 55 57 59 61 63 65 67 69 71 73 75 77 79 81 83 85 87 89 91 93 95 97 99 "
     ]
    }
   ],
   "source": [
    "for i in range(1,101,2):\n",
    "    print(i,end=\" \")\n"
   ]
  },
  {
   "cell_type": "markdown",
   "metadata": {},
   "source": [
    "Even numbers between 1 to 1000"
   ]
  },
  {
   "cell_type": "code",
   "execution_count": 24,
   "metadata": {},
   "outputs": [
    {
     "name": "stdout",
     "output_type": "stream",
     "text": [
      "2 4 6 8 10 12 14 16 18 20 22 24 26 28 30 32 34 36 38 40 42 44 46 48 50 52 54 56 58 60 62 64 66 68 70 72 74 76 78 80 82 84 86 88 90 92 94 96 98 100 102 104 106 108 110 112 114 116 118 120 122 124 126 128 130 132 134 136 138 140 142 144 146 148 150 152 154 156 158 160 162 164 166 168 170 172 174 176 178 180 182 184 186 188 190 192 194 196 198 200 202 204 206 208 210 212 214 216 218 220 222 224 226 228 230 232 234 236 238 240 242 244 246 248 250 252 254 256 258 260 262 264 266 268 270 272 274 276 278 280 282 284 286 288 290 292 294 296 298 300 302 304 306 308 310 312 314 316 318 320 322 324 326 328 330 332 334 336 338 340 342 344 346 348 350 352 354 356 358 360 362 364 366 368 370 372 374 376 378 380 382 384 386 388 390 392 394 396 398 400 402 404 406 408 410 412 414 416 418 420 422 424 426 428 430 432 434 436 438 440 442 444 446 448 450 452 454 456 458 460 462 464 466 468 470 472 474 476 478 480 482 484 486 488 490 492 494 496 498 500 502 504 506 508 510 512 514 516 518 520 522 524 526 528 530 532 534 536 538 540 542 544 546 548 550 552 554 556 558 560 562 564 566 568 570 572 574 576 578 580 582 584 586 588 590 592 594 596 598 600 602 604 606 608 610 612 614 616 618 620 622 624 626 628 630 632 634 636 638 640 642 644 646 648 650 652 654 656 658 660 662 664 666 668 670 672 674 676 678 680 682 684 686 688 690 692 694 696 698 700 702 704 706 708 710 712 714 716 718 720 722 724 726 728 730 732 734 736 738 740 742 744 746 748 750 752 754 756 758 760 762 764 766 768 770 772 774 776 778 780 782 784 786 788 790 792 794 796 798 800 802 804 806 808 810 812 814 816 818 820 822 824 826 828 830 832 834 836 838 840 842 844 846 848 850 852 854 856 858 860 862 864 866 868 870 872 874 876 878 880 882 884 886 888 890 892 894 896 898 900 902 904 906 908 910 912 914 916 918 920 922 924 926 928 930 932 934 936 938 940 942 944 946 948 950 952 954 956 958 960 962 964 966 968 970 972 974 976 978 980 982 984 986 988 990 992 994 996 998 1000 "
     ]
    }
   ],
   "source": [
    "for i in range(1,1001,1):\n",
    "    if i%2==0:\n",
    "        print(i,end=\" \")"
   ]
  },
  {
   "cell_type": "markdown",
   "metadata": {},
   "source": [
    "# ASS\n",
    "\n",
    "- Get the leap years between the given range\n",
    "\n",
    "    - starting range and ending range is given by the user\n",
    "\n",
    "- get the prime numbers between the given range\n",
    "- fibonocci series in the given range\n"
   ]
  },
  {
   "cell_type": "code",
   "execution_count": 26,
   "metadata": {},
   "outputs": [
    {
     "name": "stdout",
     "output_type": "stream",
     "text": [
      "1 2 3 4 5 6 7 8 9 10 11 12 13 14 15 16 17 18 19 20 21 22 23 24 25 26 27 28 29 30 31 32 33 34 35 36 37 38 39 40 41 42 43 44 45 46 47 48 49 50 51 52 53 54 55 56 57 58 59 60 61 62 63 64 65 66 67 68 69 70 71 72 73 74 75 76 77 78 79 80 81 82 83 84 85 86 87 88 89 90 91 92 93 94 95 96 97 98 99 100 "
     ]
    }
   ],
   "source": [
    "# WHILE LOOP\n",
    "i=1\n",
    "while i<101:\n",
    "    print(i,end=\" \")\n",
    "    i+=1"
   ]
  },
  {
   "cell_type": "markdown",
   "metadata": {},
   "source": [
    "- Break:To terminate the execution of loop\n",
    "- Continue:Skip the current execution of the loop"
   ]
  },
  {
   "cell_type": "markdown",
   "metadata": {},
   "source": [
    "Print the numbrs b/n 1 to 100 , whenever i reach 50 kms stop. "
   ]
  },
  {
   "cell_type": "code",
   "execution_count": 27,
   "metadata": {},
   "outputs": [
    {
     "name": "stdout",
     "output_type": "stream",
     "text": [
      "1 2 3 4 5 6 7 8 9 10 11 12 13 14 15 16 17 18 19 20 21 22 23 24 25 26 27 28 29 30 31 32 33 34 35 36 37 38 39 40 41 42 43 44 45 46 47 48 49 "
     ]
    }
   ],
   "source": [
    "for travel in range(1,101,1):\n",
    "    if travel==50:\n",
    "        break\n",
    "    print(travel,end=\" \")"
   ]
  },
  {
   "cell_type": "code",
   "execution_count": 31,
   "metadata": {},
   "outputs": [
    {
     "name": "stdout",
     "output_type": "stream",
     "text": [
      "1 3 5 7 9 11 13 15 17 19 21 23 25 27 29 31 33 35 37 39 41 43 45 47 49 "
     ]
    }
   ],
   "source": [
    "for travel in range(1,101,1):\n",
    "    if travel==50:\n",
    "        break\n",
    "    elif travel%2==0:\n",
    "        continue\n",
    "    print(travel,end=\" \")"
   ]
  },
  {
   "cell_type": "code",
   "execution_count": 32,
   "metadata": {},
   "outputs": [
    {
     "name": "stdout",
     "output_type": "stream",
     "text": [
      "1\n",
      "1\n",
      "2\n",
      "2\n",
      "3\n",
      "3\n",
      "4\n",
      "4\n",
      "5\n",
      "5\n",
      "cancel\n",
      "loop is terminated\n"
     ]
    }
   ],
   "source": [
    "while True:\n",
    "    inp=input()\n",
    "    if inp ==\"cancel\":\n",
    "        print(\"loop is terminated\")\n",
    "        break\n",
    "    print(inp)    \n",
    "    \n"
   ]
  },
  {
   "cell_type": "markdown",
   "metadata": {},
   "source": [
    "## strings\n",
    "- it is group of data enclosed b/n \"\",'',\"\"\" \"\"\" are called strings in python\n",
    "\n",
    "### properties of strings\n",
    "\n",
    "- it is a immutable data types\n",
    "- it is iterable\n",
    "\n"
   ]
  },
  {
   "cell_type": "code",
   "execution_count": 40,
   "metadata": {},
   "outputs": [
    {
     "name": "stdout",
     "output_type": "stream",
     "text": [
      "<class 'str'> <class 'str'> <class 'str'>\n"
     ]
    }
   ],
   "source": [
    "s='iam a single line string'\n",
    "s1=\"i'm a double line string\"\n",
    "s2='''iam\n",
    "a \n",
    "multi\n",
    "line \n",
    "string'''\n",
    "print(type(s),type(s1),type(s2))\n"
   ]
  },
  {
   "cell_type": "code",
   "execution_count": 43,
   "metadata": {},
   "outputs": [
    {
     "name": "stdout",
     "output_type": "stream",
     "text": [
      "i\ta\tm\t\n",
      "\ta\t \t\n",
      "\tm\tu\tl\tt\ti\t\n",
      "\tl\ti\tn\te\t \t\n",
      "\ts\tt\tr\ti\tn\tg\t"
     ]
    }
   ],
   "source": [
    "for char in s2:\n",
    "    print(char,end=\"\\t\")"
   ]
  },
  {
   "cell_type": "code",
   "execution_count": 50,
   "metadata": {},
   "outputs": [
    {
     "name": "stdout",
     "output_type": "stream",
     "text": [
      "e a e a a e e a e e a e a o i e a a a i a e o e e o e o e o e u A e i e a a a e u a i o o e e e o a e a a e a e a a e a i e a o e u u a a a o u a o e e o u e a "
     ]
    }
   ],
   "source": [
    "s=\"\"\"Leap years are years where an extra, or intercalary, day is added to the end of the shortest month, FebruAry. The intercalary day, February 29, is commonly referred to as leap day.\n",
    "\n",
    "Leap years have 366 days instead of the usual 365 days and occur almost every four years.\n",
    "\"\"\"\n",
    "for char in s:\n",
    "    if char in\"aeiouAEIOU\":\n",
    "        print(char,end=\" \")"
   ]
  },
  {
   "cell_type": "code",
   "execution_count": 51,
   "metadata": {},
   "outputs": [
    {
     "name": "stdout",
     "output_type": "stream",
     "text": [
      "1 upper case vowels 79 lower 192 constants\n"
     ]
    }
   ],
   "source": [
    "lo=0\n",
    "uo=0\n",
    "c=0\n",
    "for char in s:\n",
    "    if char in\"aeiou\":\n",
    "        lo +=1\n",
    "    elif char in \"AEIOU\":\n",
    "        uo +=1\n",
    "    else:\n",
    "        c+=1\n",
    "print(uo,\"upper case vowels\",lo,\"lower\",c,\"constants\")\n",
    "   \n",
    "                "
   ]
  },
  {
   "cell_type": "markdown",
   "metadata": {},
   "source": [
    "## accessing the characters from the string\n",
    "\n",
    "- Indexing\n",
    "    - +ve/Forward\n",
    "    -  -ve/Reverse\n"
   ]
  },
  {
   "cell_type": "code",
   "execution_count": 52,
   "metadata": {},
   "outputs": [
    {
     "name": "stdout",
     "output_type": "stream",
     "text": [
      "Leap years are years where an extra, or intercalary, day is added to the end of the shortest month, FebruAry. The intercalary day, February 29, is commonly referred to as leap day.\n",
      "\n",
      "Leap years have 366 days instead of the usual 365 days and occur almost every four years.\n",
      "\n"
     ]
    }
   ],
   "source": [
    "print(s)"
   ]
  },
  {
   "cell_type": "code",
   "execution_count": 53,
   "metadata": {},
   "outputs": [
    {
     "name": "stdout",
     "output_type": "stream",
     "text": [
      "L\n"
     ]
    }
   ],
   "source": [
    "print(s[0])"
   ]
  },
  {
   "cell_type": "code",
   "execution_count": 55,
   "metadata": {},
   "outputs": [
    {
     "name": "stdout",
     "output_type": "stream",
     "text": [
      "a\n"
     ]
    }
   ],
   "source": [
    "print(s[7])"
   ]
  },
  {
   "cell_type": "code",
   "execution_count": 56,
   "metadata": {},
   "outputs": [
    {
     "name": "stdout",
     "output_type": "stream",
     "text": [
      "\n",
      "\n"
     ]
    }
   ],
   "source": [
    "print(s[-1])"
   ]
  },
  {
   "cell_type": "code",
   "execution_count": 57,
   "metadata": {},
   "outputs": [
    {
     "name": "stdout",
     "output_type": "stream",
     "text": [
      "a\n"
     ]
    }
   ],
   "source": [
    "print(s[-5])"
   ]
  },
  {
   "cell_type": "code",
   "execution_count": 58,
   "metadata": {},
   "outputs": [
    {
     "name": "stdout",
     "output_type": "stream",
     "text": [
      ".\n"
     ]
    }
   ],
   "source": [
    "print(s[-2])"
   ]
  },
  {
   "cell_type": "code",
   "execution_count": null,
   "metadata": {},
   "outputs": [],
   "source": []
  }
 ],
 "metadata": {
  "kernelspec": {
   "display_name": "Python 3",
   "language": "python",
   "name": "python3"
  },
  "language_info": {
   "codemirror_mode": {
    "name": "ipython",
    "version": 3
   },
   "file_extension": ".py",
   "mimetype": "text/x-python",
   "name": "python",
   "nbconvert_exporter": "python",
   "pygments_lexer": "ipython3",
   "version": "3.8.3"
  }
 },
 "nbformat": 4,
 "nbformat_minor": 4
}
