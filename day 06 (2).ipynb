{
 "cells": [
  {
   "cell_type": "code",
   "execution_count": 2,
   "metadata": {},
   "outputs": [
    {
     "name": "stdout",
     "output_type": "stream",
     "text": [
      "<class 'int'>\n"
     ]
    }
   ],
   "source": [
    "a=123\n",
    "print(type(a))"
   ]
  },
  {
   "cell_type": "code",
   "execution_count": 4,
   "metadata": {},
   "outputs": [
    {
     "name": "stdout",
     "output_type": "stream",
     "text": [
      "123\n"
     ]
    }
   ],
   "source": [
    "a=input()"
   ]
  },
  {
   "cell_type": "code",
   "execution_count": 6,
   "metadata": {},
   "outputs": [
    {
     "name": "stdout",
     "output_type": "stream",
     "text": [
      "<class 'str'>\n"
     ]
    }
   ],
   "source": [
    "print(type(a))"
   ]
  },
  {
   "cell_type": "markdown",
   "metadata": {},
   "source": [
    "# Type casting\n"
   ]
  },
  {
   "cell_type": "code",
   "execution_count": 7,
   "metadata": {},
   "outputs": [
    {
     "name": "stdout",
     "output_type": "stream",
     "text": [
      "123\n",
      "123 <class 'int'>\n"
     ]
    }
   ],
   "source": [
    "a=int(input())\n",
    "\n",
    "print(a,type(a))"
   ]
  },
  {
   "cell_type": "code",
   "execution_count": 11,
   "metadata": {},
   "outputs": [
    {
     "name": "stdout",
     "output_type": "stream",
     "text": [
      "123\n",
      "123 <class 'int'>\n"
     ]
    }
   ],
   "source": [
    "a=int(input())\n",
    "print(a,type(a))\n"
   ]
  },
  {
   "cell_type": "code",
   "execution_count": 13,
   "metadata": {},
   "outputs": [
    {
     "name": "stdout",
     "output_type": "stream",
     "text": [
      "1223.3\n",
      "1223.3 <class 'float'>\n"
     ]
    }
   ],
   "source": [
    "a=float(input())\n",
    "print(a,type(a))"
   ]
  },
  {
   "cell_type": "markdown",
   "metadata": {},
   "source": [
    "## Number system\n",
    "\n",
    "- Decimal_>10_>0-9\n",
    "- Binary->0 1\n",
    "- octal->8->0 7\n",
    "- hexadecimal->16->0 F"
   ]
  },
  {
   "cell_type": "code",
   "execution_count": 15,
   "metadata": {},
   "outputs": [
    {
     "name": "stdout",
     "output_type": "stream",
     "text": [
      "0b100011 0o43 0x23\n"
     ]
    }
   ],
   "source": [
    "a=35\n",
    "print(bin(a),oct(a),hex(a))"
   ]
  },
  {
   "cell_type": "code",
   "execution_count": 16,
   "metadata": {},
   "outputs": [
    {
     "name": "stdout",
     "output_type": "stream",
     "text": [
      "55 55 55\n"
     ]
    }
   ],
   "source": [
    "print(int(\"110111\",2),int(\"67\",8),int(\"37\",16))"
   ]
  },
  {
   "cell_type": "code",
   "execution_count": 18,
   "metadata": {},
   "outputs": [
    {
     "name": "stdout",
     "output_type": "stream",
     "text": [
      "97\n"
     ]
    }
   ],
   "source": [
    "print(ord(\"a\"))"
   ]
  },
  {
   "cell_type": "code",
   "execution_count": 24,
   "metadata": {},
   "outputs": [
    {
     "name": "stdout",
     "output_type": "stream",
     "text": [
      "a\n"
     ]
    }
   ],
   "source": [
    "print(chr(97))"
   ]
  },
  {
   "cell_type": "markdown",
   "metadata": {},
   "source": [
    "\n",
    "## Operators in python\n",
    "\n",
    "- arithmetic operator: -,+,*,%,//,**\n",
    "- logical- and,or,not\n",
    "- comparison/relational- ->,<,>,<=,>=,==,!=\n",
    "- Bitwise operator- &(and), |(or),~(not), ^(xor),>>(right shift),<<(left shift)\n",
    "- Assignment operator- +=,-=, /=,%=,//=,**=\n",
    "- Identity operator- is,not is\n",
    "- Membership operator- in,notin"
   ]
  },
  {
   "cell_type": "code",
   "execution_count": 26,
   "metadata": {},
   "outputs": [
    {
     "name": "stdout",
     "output_type": "stream",
     "text": [
      "14 -6 40 4 0.4 0\n"
     ]
    }
   ],
   "source": [
    "a=4\n",
    "b=10\n",
    "print(a+b,a-b,a*b,a%b,a/b,a//b)"
   ]
  },
  {
   "cell_type": "markdown",
   "metadata": {},
   "source": [
    "##  And\n",
    "- |inp1 |inp2|inp1 and inp2|\n",
    "- T|T|T\n",
    "- T|F|F\n",
    "- F|T|F\n",
    "- F|F|F\n",
    "\n",
    "##  OR\n",
    "- |inp1 |inp2|inp1 and inp2|\n",
    "- T|T|T\n",
    "- T|F|T\n",
    "- F|T|T\n",
    "- F|F|F\n",
    "# NOT\n",
    "- |inp1 |inp2|inp1 and inp2|\n",
    "- T|F\n",
    "- F|T"
   ]
  },
  {
   "cell_type": "code",
   "execution_count": 28,
   "metadata": {},
   "outputs": [
    {
     "name": "stdout",
     "output_type": "stream",
     "text": [
      "0->1->False->0->False\n"
     ]
    }
   ],
   "source": [
    "a=1\n",
    "b=0\n",
    "c='0'\n",
    "print(a and b ,a or b, not a ,a and c, not c ,sep= \"->\")"
   ]
  },
  {
   "cell_type": "markdown",
   "metadata": {},
   "source": [
    "- string \"0\" is considered as true "
   ]
  },
  {
   "cell_type": "code",
   "execution_count": 29,
   "metadata": {},
   "outputs": [
    {
     "name": "stdout",
     "output_type": "stream",
     "text": [
      "False True False\n"
     ]
    }
   ],
   "source": [
    "a=5\n",
    "b=10\n",
    "print(a>b,a<b,a==b)"
   ]
  },
  {
   "cell_type": "markdown",
   "metadata": {},
   "source": [
    "## Bitwise operator\n",
    "\n",
    "\n",
    "- &, | , ~ , ^\n",
    "---\n",
    "\n",
    "      a = 4\n",
    "      b = 10\n",
    "      4 -> 0100\n",
    "      10-> 1010\n",
    "     _____\n",
    "     0000 -> 0 ->and\n",
    "     1110 -> 14->or\n",
    "\n",
    "      ~a\n",
    "     4 -> 0100\n",
    "     0001\n",
    "    -0101-> *5\n",
    "    \n",
    "---    "
   ]
  },
  {
   "cell_type": "markdown",
   "metadata": {},
   "source": [
    "## Left shift and right shift\n",
    "\n",
    "\n",
    "\n",
    "a=4 -> 0100\n",
    "\n",
    "\n",
    "a<<2 ->010000-> 16\n",
    "\n",
    "a>>2 _> 0100->1\n"
   ]
  },
  {
   "cell_type": "code",
   "execution_count": 30,
   "metadata": {},
   "outputs": [
    {
     "name": "stdout",
     "output_type": "stream",
     "text": [
      "16 1\n"
     ]
    }
   ],
   "source": [
    "a=4\n",
    "print(a<<2,a>>2)"
   ]
  },
  {
   "cell_type": "code",
   "execution_count": 33,
   "metadata": {},
   "outputs": [
    {
     "name": "stdout",
     "output_type": "stream",
     "text": [
      "15\n",
      "10\n",
      "100\n"
     ]
    }
   ],
   "source": [
    "a=5\n",
    "\n",
    "#a=a+10\n",
    "a+=10\n",
    "print(a)\n",
    "a-=5\n",
    "print(a)\n",
    "a**=2\n",
    "print(a)"
   ]
  },
  {
   "cell_type": "markdown",
   "metadata": {},
   "source": [
    "## Membership Operators"
   ]
  },
  {
   "cell_type": "code",
   "execution_count": 35,
   "metadata": {},
   "outputs": [
    {
     "name": "stdout",
     "output_type": "stream",
     "text": [
      "False False True True\n"
     ]
    }
   ],
   "source": [
    "a = \"python\"\n",
    "b= \"py\"\n",
    "c= \"py\"\n",
    "print(a in b,a in c, a is not c,c in a)"
   ]
  },
  {
   "cell_type": "markdown",
   "metadata": {},
   "source": [
    "## Identity Operators"
   ]
  },
  {
   "cell_type": "code",
   "execution_count": 37,
   "metadata": {},
   "outputs": [
    {
     "name": "stdout",
     "output_type": "stream",
     "text": [
      "True True True\n"
     ]
    }
   ],
   "source": [
    "a =5\n",
    "b=5.5\n",
    "c=5\n",
    "d=[1,2,3]\n",
    "e=[1,2,3]\n",
    "f=d\n",
    "print(a==c,d==e,d==f)"
   ]
  },
  {
   "cell_type": "code",
   "execution_count": 39,
   "metadata": {},
   "outputs": [
    {
     "name": "stdout",
     "output_type": "stream",
     "text": [
      "[1, 2, 3]\n"
     ]
    }
   ],
   "source": [
    "print(f)"
   ]
  },
  {
   "cell_type": "code",
   "execution_count": 41,
   "metadata": {},
   "outputs": [
    {
     "name": "stdout",
     "output_type": "stream",
     "text": [
      "1844741360\n",
      "50509456\n",
      "1844741360\n",
      "49272456\n",
      "50474184\n",
      "49272456\n"
     ]
    }
   ],
   "source": [
    "print(id(a))\n",
    "print(id(b))\n",
    "print(id(c))\n",
    "print(id(d))\n",
    "print(id(e))\n",
    "\n",
    "print(id(f))"
   ]
  },
  {
   "cell_type": "markdown",
   "metadata": {},
   "source": [
    "\n",
    "address location will be same for primary data types , but it will be stored in different memory location for secondary data types"
   ]
  },
  {
   "cell_type": "code",
   "execution_count": 45,
   "metadata": {},
   "outputs": [
    {
     "name": "stdout",
     "output_type": "stream",
     "text": [
      "[1, 2, 3, 'python', 'python']\n",
      "[1, 2, 3, 'python', 'python']\n",
      "True False True\n"
     ]
    }
   ],
   "source": [
    "d.append(\"python\")\n",
    "print(d)\n",
    "print(f)\n",
    "print(a==c,d==e,d==f)"
   ]
  },
  {
   "cell_type": "code",
   "execution_count": 47,
   "metadata": {},
   "outputs": [
    {
     "name": "stdout",
     "output_type": "stream",
     "text": [
      "[1, 2, 3, 'python', 'python'] [1, 2, 3] [1, 2, 3, 'python', 'python']\n",
      "False True False\n"
     ]
    }
   ],
   "source": [
    "print(d,e,f)\n",
    "print(d is e,d is f,e is f)"
   ]
  },
  {
   "cell_type": "markdown",
   "metadata": {},
   "source": []
  }
 ],
 "metadata": {
  "kernelspec": {
   "display_name": "Python 3",
   "language": "python",
   "name": "python3"
  },
  "language_info": {
   "codemirror_mode": {
    "name": "ipython",
    "version": 3
   },
   "file_extension": ".py",
   "mimetype": "text/x-python",
   "name": "python",
   "nbconvert_exporter": "python",
   "pygments_lexer": "ipython3",
   "version": "3.8.3"
  }
 },
 "nbformat": 4,
 "nbformat_minor": 4
}
